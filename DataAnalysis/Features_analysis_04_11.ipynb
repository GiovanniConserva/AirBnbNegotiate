{
 "cells": [
  {
   "cell_type": "code",
   "execution_count": 73,
   "metadata": {
    "collapsed": true
   },
   "outputs": [],
   "source": [
    "import pandas as pd\n",
    "import numpy as np\n",
    "import matplotlib.pyplot as plt\n",
    "import seaborn as sns\n",
    "%matplotlib inline  \n",
    "import datetime as dt\n",
    "from collections import Counter\n"
   ]
  },
  {
   "cell_type": "code",
   "execution_count": 74,
   "metadata": {
    "collapsed": false
   },
   "outputs": [
    {
     "name": "stdout",
     "output_type": "stream",
     "text": [
      "Index([u'Unnamed: 0', u'account', u'actions', u'availability', u'beds',\n",
      "       u'bucket_name', u'calendars', u'decision', u'discount_agreed',\n",
      "       u'discount_asked', u'discount_obtained', u'host_acceptance_rate',\n",
      "       u'host_id', u'host_is_superhost', u'host_name', u'host_response_rate',\n",
      "       u'host_response_time', u'host_total_listings_count', u'host_url', u'id',\n",
      "       u'instant_bookable', u'listing_url', u'minimum_nights',\n",
      "       u'monthly_price', u'nightly_price', u'nightly_price_scraped',\n",
      "       u'number_of_reviews', u'openings', u'percent_agreed', u'price_agreed',\n",
      "       u'price_requested', u'response', u'room_type'],\n",
      "      dtype='object')\n",
      "226\n"
     ]
    },
    {
     "data": {
      "text/plain": [
       "0         Private room\n",
       "1      Entire home/apt\n",
       "10     Entire home/apt\n",
       "100       Private room\n",
       "101       Private room\n",
       "Name: room_type, dtype: object"
      ]
     },
     "execution_count": 74,
     "metadata": {},
     "output_type": "execute_result"
    }
   ],
   "source": [
    "\n",
    "round2 = pd.read_json(\"round_2/for_analysis/round2_merged.json\")\n",
    "# round3.drop([\"Unnamed: 0\", \"Unnamed: 0.1\"],axis=1, inplace=True)\n",
    "print round2.columns\n",
    "# round3.head()\n",
    "print len(round2)\n",
    "round2_clean = round2[[\"id\", \"host_id\", \"host_response_rate\", \"host_acceptance_rate\", \n",
    "                       \"host_total_listings_count\", \"monthly_price\", \"instant_bookable\", \n",
    "                       \"room_type\", \"bucket_name\", \"discount_asked\", \"nightly_price\", \n",
    "                       \"decision\", \"price_agreed\", \"discount_agreed\", \"percent_agreed\",\n",
    "                       \"calendars\", \"price_requested\", \"number_of_reviews\", \"host_is_superhost\"\n",
    "                      ,\"beds\"]]\n",
    "round2_clean[\"room_type\"].head(5)\n",
    "\n"
   ]
  },
  {
   "cell_type": "code",
   "execution_count": 75,
   "metadata": {
    "collapsed": false
   },
   "outputs": [
    {
     "name": "stdout",
     "output_type": "stream",
     "text": [
      "Index([u'Unnamed: 0', u'account', u'actions', u'availability', u'beds',\n",
      "       u'bucket_name', u'calendars', u'decision', u'discount_agreed',\n",
      "       u'discount_asked', u'discount_obtained', u'extra_people',\n",
      "       u'guests_included', u'host_acceptance_rate', u'host_id',\n",
      "       u'host_is_superhost', u'host_name', u'host_response_rate',\n",
      "       u'host_response_time', u'host_total_listings_count', u'host_url', u'id',\n",
      "       u'instant_bookable', u'listing_url', u'minimum_nights',\n",
      "       u'monthly_price', u'nightly_plus_guest_price', u'nightly_price',\n",
      "       u'nightly_price_scraped', u'number_of_reviews', u'openings',\n",
      "       u'percent_agreed', u'price_agreed', u'price_requested', u'response',\n",
      "       u'room_type'],\n",
      "      dtype='object')\n",
      "288\n",
      "514\n"
     ]
    }
   ],
   "source": [
    "round3 = pd.read_json(\"round_3/for_analysis/round3_merged.json\")\n",
    "print round3.columns\n",
    "\n",
    "round3_clean = round3[[\"id\", \"host_id\", \"host_response_rate\", \"host_acceptance_rate\", \n",
    "                       \"host_total_listings_count\", \"monthly_price\", \"instant_bookable\", \n",
    "                       \"room_type\", \"bucket_name\", \"discount_asked\", \"nightly_price\", \n",
    "                       \"decision\", \"price_agreed\", \"discount_agreed\", \"percent_agreed\",\n",
    "                       \"calendars\", \"price_requested\", \"number_of_reviews\", \"host_is_superhost\"\n",
    "                      ,\"beds\"]]\n",
    "\n",
    "print len(round3_clean)\n",
    "dataframes= [round2_clean, round3_clean]\n",
    "\n",
    "round3_clean = pd.concat(dataframes)\n",
    "print len(round3_clean)\n"
   ]
  },
  {
   "cell_type": "markdown",
   "metadata": {},
   "source": [
    "### One method for buckets division. It's commented, since below is used another method"
   ]
  },
  {
   "cell_type": "code",
   "execution_count": 76,
   "metadata": {
    "collapsed": false
   },
   "outputs": [
    {
     "data": {
      "text/plain": [
       "'\\nopening_attr = round3_clean[\"bucket_name\"].values\\n# orphan = []\\n# advance = []\\nN = len(opening_attr)\\norp_1 = np.zeros(N)\\norp_2 = np.zeros(N)\\norp_3 = np.zeros(N)\\nadv_1 = np.zeros(N)\\nadv_2 = np.zeros(N)\\n\\nfor (i,x) in enumerate(opening_attr):\\n    if x == \"days1_weeks1\":\\n        orp_1[i] = 1\\n        orp_2[i] = 0\\n        orp_3[i] = 0\\n        adv_1[i] = 1\\n        adv_2[i] = 0\\n    elif x == \"days1_weeks2\":\\n        orp_1[i] = 1\\n        orp_2[i] = 0\\n        orp_3[i] = 0\\n        adv_1[i] = 0\\n        adv_2[i] = 1\\n    elif x == \"days1_weeksM\":\\n        orp_1[i] = 1\\n        orp_2[i] = 0\\n        orp_3[i] = 0\\n        adv_1[i] = 0\\n        adv_2[i] = 0\\n    elif x == \"days2_weeks1\":\\n        orp_1[i] = 0\\n        orp_2[i] = 1\\n        orp_3[i] = 0\\n        adv_1[i] = 1\\n        adv_2[i] = 0\\n    elif x == \"days2_weeks2\":\\n        orp_1[i] = 0\\n        orp_2[i] = 1\\n        orp_3[i] = 0\\n        adv_1[i] = 0\\n        adv_2[i] = 1\\n    elif x == \"days2_weeksM\":\\n        orp_1[i] = 0\\n        orp_2[i] = 1\\n        orp_3[i] = 0\\n        adv_1[i] = 0\\n        adv_2[i] = 0\\n    elif x == \"days3_weeks1\":\\n        orp_1[i] = 0\\n        orp_2[i] = 0\\n        orp_3[i] = 1\\n        adv_1[i] = 1\\n        adv_2[i] = 0\\n    elif x == \"days3_weeks2\":\\n        orp_1[i] = 0\\n        orp_2[i] = 0\\n        orp_3[i] = 1\\n        adv_1[i] = 0\\n        adv_2[i] = 1\\n    elif x == \"days3_weeksM\":\\n        orp_1[i] = 0\\n        orp_2[i] = 0\\n        orp_3[i] = 1\\n        adv_1[i] = 0\\n        adv_2[i] = 0\\n    elif x == \"daysM_weeks1\":\\n        orp_1[i] = 0\\n        orp_2[i] = 0\\n        orp_3[i] = 0\\n        adv_1[i] = 1\\n        adv_2[i] = 0\\n    elif x == \"daysM_weeks2\":\\n        orp_1[i] = 0\\n        orp_2[i] = 0\\n        orp_3[i] = 0\\n        adv_1[i] = 0\\n        adv_2[i] = 1\\n    elif x == \"daysM_weeksM\":\\n        orp_1[i] = 0\\n        orp_2[i] = 0\\n        orp_3[i] = 0\\n        adv_1[i] = 0\\n        adv_2[i] = 0\\n        \\nround3_clean[\"orp_1\"]=orp_1\\nround3_clean[\"orp_2\"]=orp_2\\nround3_clean[\"orp_3\"]=orp_3\\nround3_clean[\"adv_1\"]=adv_1\\nround3_clean[\"adv_2\"]=adv_2\\n'"
      ]
     },
     "execution_count": 76,
     "metadata": {},
     "output_type": "execute_result"
    }
   ],
   "source": [
    "'''\n",
    "opening_attr = round3_clean[\"bucket_name\"].values\n",
    "# orphan = []\n",
    "# advance = []\n",
    "N = len(opening_attr)\n",
    "orp_1 = np.zeros(N)\n",
    "orp_2 = np.zeros(N)\n",
    "orp_3 = np.zeros(N)\n",
    "adv_1 = np.zeros(N)\n",
    "adv_2 = np.zeros(N)\n",
    "\n",
    "for (i,x) in enumerate(opening_attr):\n",
    "    if x == \"days1_weeks1\":\n",
    "        orp_1[i] = 1\n",
    "        orp_2[i] = 0\n",
    "        orp_3[i] = 0\n",
    "        adv_1[i] = 1\n",
    "        adv_2[i] = 0\n",
    "    elif x == \"days1_weeks2\":\n",
    "        orp_1[i] = 1\n",
    "        orp_2[i] = 0\n",
    "        orp_3[i] = 0\n",
    "        adv_1[i] = 0\n",
    "        adv_2[i] = 1\n",
    "    elif x == \"days1_weeksM\":\n",
    "        orp_1[i] = 1\n",
    "        orp_2[i] = 0\n",
    "        orp_3[i] = 0\n",
    "        adv_1[i] = 0\n",
    "        adv_2[i] = 0\n",
    "    elif x == \"days2_weeks1\":\n",
    "        orp_1[i] = 0\n",
    "        orp_2[i] = 1\n",
    "        orp_3[i] = 0\n",
    "        adv_1[i] = 1\n",
    "        adv_2[i] = 0\n",
    "    elif x == \"days2_weeks2\":\n",
    "        orp_1[i] = 0\n",
    "        orp_2[i] = 1\n",
    "        orp_3[i] = 0\n",
    "        adv_1[i] = 0\n",
    "        adv_2[i] = 1\n",
    "    elif x == \"days2_weeksM\":\n",
    "        orp_1[i] = 0\n",
    "        orp_2[i] = 1\n",
    "        orp_3[i] = 0\n",
    "        adv_1[i] = 0\n",
    "        adv_2[i] = 0\n",
    "    elif x == \"days3_weeks1\":\n",
    "        orp_1[i] = 0\n",
    "        orp_2[i] = 0\n",
    "        orp_3[i] = 1\n",
    "        adv_1[i] = 1\n",
    "        adv_2[i] = 0\n",
    "    elif x == \"days3_weeks2\":\n",
    "        orp_1[i] = 0\n",
    "        orp_2[i] = 0\n",
    "        orp_3[i] = 1\n",
    "        adv_1[i] = 0\n",
    "        adv_2[i] = 1\n",
    "    elif x == \"days3_weeksM\":\n",
    "        orp_1[i] = 0\n",
    "        orp_2[i] = 0\n",
    "        orp_3[i] = 1\n",
    "        adv_1[i] = 0\n",
    "        adv_2[i] = 0\n",
    "    elif x == \"daysM_weeks1\":\n",
    "        orp_1[i] = 0\n",
    "        orp_2[i] = 0\n",
    "        orp_3[i] = 0\n",
    "        adv_1[i] = 1\n",
    "        adv_2[i] = 0\n",
    "    elif x == \"daysM_weeks2\":\n",
    "        orp_1[i] = 0\n",
    "        orp_2[i] = 0\n",
    "        orp_3[i] = 0\n",
    "        adv_1[i] = 0\n",
    "        adv_2[i] = 1\n",
    "    elif x == \"daysM_weeksM\":\n",
    "        orp_1[i] = 0\n",
    "        orp_2[i] = 0\n",
    "        orp_3[i] = 0\n",
    "        adv_1[i] = 0\n",
    "        adv_2[i] = 0\n",
    "        \n",
    "round3_clean[\"orp_1\"]=orp_1\n",
    "round3_clean[\"orp_2\"]=orp_2\n",
    "round3_clean[\"orp_3\"]=orp_3\n",
    "round3_clean[\"adv_1\"]=adv_1\n",
    "round3_clean[\"adv_2\"]=adv_2\n",
    "'''"
   ]
  },
  {
   "cell_type": "code",
   "execution_count": 77,
   "metadata": {
    "collapsed": false
   },
   "outputs": [
    {
     "data": {
      "text/plain": [
       "'\\nround3_clean[\"orp_1, adv_1\"] = round3_clean[\"orp_1\"]*round3_clean[\"adv_1\"]\\nround3_clean[\"orp_1, adv_2\"] = round3_clean[\"orp_1\"]*round3_clean[\"adv_2\"]\\nround3_clean[\"orp_2, adv_1\"] = round3_clean[\"orp_2\"]*round3_clean[\"adv_1\"]\\nround3_clean[\"orp_2, adv_2\"] = round3_clean[\"orp_2\"]*round3_clean[\"adv_2\"]\\nround3_clean[\"orp_3, adv_1\"] = round3_clean[\"orp_3\"]*round3_clean[\"adv_1\"]\\nround3_clean[\"orp_3, adv_2\"] = round3_clean[\"orp_3\"]*round3_clean[\"adv_2\"]\\n'"
      ]
     },
     "execution_count": 77,
     "metadata": {},
     "output_type": "execute_result"
    }
   ],
   "source": [
    "'''\n",
    "round3_clean[\"orp_1, adv_1\"] = round3_clean[\"orp_1\"]*round3_clean[\"adv_1\"]\n",
    "round3_clean[\"orp_1, adv_2\"] = round3_clean[\"orp_1\"]*round3_clean[\"adv_2\"]\n",
    "round3_clean[\"orp_2, adv_1\"] = round3_clean[\"orp_2\"]*round3_clean[\"adv_1\"]\n",
    "round3_clean[\"orp_2, adv_2\"] = round3_clean[\"orp_2\"]*round3_clean[\"adv_2\"]\n",
    "round3_clean[\"orp_3, adv_1\"] = round3_clean[\"orp_3\"]*round3_clean[\"adv_1\"]\n",
    "round3_clean[\"orp_3, adv_2\"] = round3_clean[\"orp_3\"]*round3_clean[\"adv_2\"]\n",
    "'''"
   ]
  },
  {
   "cell_type": "code",
   "execution_count": 78,
   "metadata": {
    "collapsed": false
   },
   "outputs": [
    {
     "data": {
      "text/html": [
       "<div>\n",
       "<table border=\"1\" class=\"dataframe\">\n",
       "  <thead>\n",
       "    <tr style=\"text-align: right;\">\n",
       "      <th></th>\n",
       "      <th>id</th>\n",
       "      <th>host_id</th>\n",
       "      <th>host_response_rate</th>\n",
       "      <th>host_acceptance_rate</th>\n",
       "      <th>host_total_listings_count</th>\n",
       "      <th>monthly_price</th>\n",
       "      <th>instant_bookable</th>\n",
       "      <th>room_type</th>\n",
       "      <th>bucket_name</th>\n",
       "      <th>discount_asked</th>\n",
       "      <th>nightly_price</th>\n",
       "      <th>decision</th>\n",
       "      <th>price_agreed</th>\n",
       "      <th>discount_agreed</th>\n",
       "      <th>percent_agreed</th>\n",
       "      <th>calendars</th>\n",
       "      <th>price_requested</th>\n",
       "      <th>number_of_reviews</th>\n",
       "      <th>host_is_superhost</th>\n",
       "      <th>beds</th>\n",
       "    </tr>\n",
       "  </thead>\n",
       "  <tbody>\n",
       "    <tr>\n",
       "      <th>0</th>\n",
       "      <td>1450685</td>\n",
       "      <td>2071641</td>\n",
       "      <td>100%</td>\n",
       "      <td>91%</td>\n",
       "      <td>2</td>\n",
       "      <td>$1,200.00</td>\n",
       "      <td>t</td>\n",
       "      <td>Private room</td>\n",
       "      <td>days3_weeksM</td>\n",
       "      <td>0.8</td>\n",
       "      <td>50</td>\n",
       "      <td>-1</td>\n",
       "      <td>NaN</td>\n",
       "      <td>NaN</td>\n",
       "      <td>NaN</td>\n",
       "      <td>{u'date': {u'24': u'2016-04-25', u'25': u'2016...</td>\n",
       "      <td>40</td>\n",
       "      <td>23</td>\n",
       "      <td>f</td>\n",
       "      <td>1</td>\n",
       "    </tr>\n",
       "    <tr>\n",
       "      <th>1</th>\n",
       "      <td>8516966</td>\n",
       "      <td>15728249</td>\n",
       "      <td>90%</td>\n",
       "      <td>100%</td>\n",
       "      <td>1</td>\n",
       "      <td>None</td>\n",
       "      <td>f</td>\n",
       "      <td>Entire home/apt</td>\n",
       "      <td>days3_weeks1</td>\n",
       "      <td>0.9</td>\n",
       "      <td>210</td>\n",
       "      <td>1</td>\n",
       "      <td>185</td>\n",
       "      <td>NaN</td>\n",
       "      <td>NaN</td>\n",
       "      <td>{u'date': {u'24': u'2016-04-25', u'25': u'2016...</td>\n",
       "      <td>185</td>\n",
       "      <td>1</td>\n",
       "      <td>t</td>\n",
       "      <td>4</td>\n",
       "    </tr>\n",
       "    <tr>\n",
       "      <th>10</th>\n",
       "      <td>1079511</td>\n",
       "      <td>4524825</td>\n",
       "      <td>100%</td>\n",
       "      <td>None</td>\n",
       "      <td>1</td>\n",
       "      <td>None</td>\n",
       "      <td>f</td>\n",
       "      <td>Entire home/apt</td>\n",
       "      <td>daysM_weeksM</td>\n",
       "      <td>0.9</td>\n",
       "      <td>170</td>\n",
       "      <td>1</td>\n",
       "      <td>170</td>\n",
       "      <td>NaN</td>\n",
       "      <td>NaN</td>\n",
       "      <td>{u'date': {u'24': u'2016-04-25', u'25': u'2016...</td>\n",
       "      <td>150</td>\n",
       "      <td>15</td>\n",
       "      <td>f</td>\n",
       "      <td>1</td>\n",
       "    </tr>\n",
       "    <tr>\n",
       "      <th>100</th>\n",
       "      <td>3394768</td>\n",
       "      <td>10657357</td>\n",
       "      <td>63%</td>\n",
       "      <td>80%</td>\n",
       "      <td>4</td>\n",
       "      <td>$1,940.00</td>\n",
       "      <td>f</td>\n",
       "      <td>Private room</td>\n",
       "      <td>days1_weeks1</td>\n",
       "      <td>0.7</td>\n",
       "      <td>69</td>\n",
       "      <td>-1</td>\n",
       "      <td>NaN</td>\n",
       "      <td>NaN</td>\n",
       "      <td>NaN</td>\n",
       "      <td>{u'date': {u'24': u'2016-04-25', u'25': u'2016...</td>\n",
       "      <td>45</td>\n",
       "      <td>6</td>\n",
       "      <td>f</td>\n",
       "      <td>1</td>\n",
       "    </tr>\n",
       "    <tr>\n",
       "      <th>101</th>\n",
       "      <td>5481237</td>\n",
       "      <td>19282453</td>\n",
       "      <td>84%</td>\n",
       "      <td>90%</td>\n",
       "      <td>3</td>\n",
       "      <td>None</td>\n",
       "      <td>f</td>\n",
       "      <td>Private room</td>\n",
       "      <td>days1_weeks1</td>\n",
       "      <td>0.8</td>\n",
       "      <td>80</td>\n",
       "      <td>-1</td>\n",
       "      <td>NaN</td>\n",
       "      <td>NaN</td>\n",
       "      <td>NaN</td>\n",
       "      <td>{u'date': {u'24': u'2016-04-25', u'25': u'2016...</td>\n",
       "      <td>60</td>\n",
       "      <td>29</td>\n",
       "      <td>f</td>\n",
       "      <td>2</td>\n",
       "    </tr>\n",
       "  </tbody>\n",
       "</table>\n",
       "</div>"
      ],
      "text/plain": [
       "          id   host_id host_response_rate host_acceptance_rate  \\\n",
       "0    1450685   2071641               100%                  91%   \n",
       "1    8516966  15728249                90%                 100%   \n",
       "10   1079511   4524825               100%                 None   \n",
       "100  3394768  10657357                63%                  80%   \n",
       "101  5481237  19282453                84%                  90%   \n",
       "\n",
       "     host_total_listings_count monthly_price instant_bookable  \\\n",
       "0                            2     $1,200.00                t   \n",
       "1                            1          None                f   \n",
       "10                           1          None                f   \n",
       "100                          4     $1,940.00                f   \n",
       "101                          3          None                f   \n",
       "\n",
       "           room_type   bucket_name  discount_asked  nightly_price  decision  \\\n",
       "0       Private room  days3_weeksM             0.8             50        -1   \n",
       "1    Entire home/apt  days3_weeks1             0.9            210         1   \n",
       "10   Entire home/apt  daysM_weeksM             0.9            170         1   \n",
       "100     Private room  days1_weeks1             0.7             69        -1   \n",
       "101     Private room  days1_weeks1             0.8             80        -1   \n",
       "\n",
       "     price_agreed  discount_agreed  percent_agreed  \\\n",
       "0             NaN              NaN             NaN   \n",
       "1             185              NaN             NaN   \n",
       "10            170              NaN             NaN   \n",
       "100           NaN              NaN             NaN   \n",
       "101           NaN              NaN             NaN   \n",
       "\n",
       "                                             calendars  price_requested  \\\n",
       "0    {u'date': {u'24': u'2016-04-25', u'25': u'2016...               40   \n",
       "1    {u'date': {u'24': u'2016-04-25', u'25': u'2016...              185   \n",
       "10   {u'date': {u'24': u'2016-04-25', u'25': u'2016...              150   \n",
       "100  {u'date': {u'24': u'2016-04-25', u'25': u'2016...               45   \n",
       "101  {u'date': {u'24': u'2016-04-25', u'25': u'2016...               60   \n",
       "\n",
       "     number_of_reviews host_is_superhost  beds  \n",
       "0                   23                 f     1  \n",
       "1                    1                 t     4  \n",
       "10                  15                 f     1  \n",
       "100                  6                 f     1  \n",
       "101                 29                 f     2  "
      ]
     },
     "execution_count": 78,
     "metadata": {},
     "output_type": "execute_result"
    }
   ],
   "source": [
    "round3_clean.head()\n"
   ]
  },
  {
   "cell_type": "markdown",
   "metadata": {},
   "source": [
    "### Cleaning some fields' values for the later analysis"
   ]
  },
  {
   "cell_type": "code",
   "execution_count": 79,
   "metadata": {
    "collapsed": false
   },
   "outputs": [
    {
     "name": "stderr",
     "output_type": "stream",
     "text": [
      "C:\\Anaconda2\\lib\\site-packages\\ipykernel\\__main__.py:11: SettingWithCopyWarning: \n",
      "A value is trying to be set on a copy of a slice from a DataFrame\n",
      "\n",
      "See the caveats in the documentation: http://pandas.pydata.org/pandas-docs/stable/indexing.html#indexing-view-versus-copy\n",
      "C:\\Anaconda2\\lib\\site-packages\\ipykernel\\__main__.py:17: SettingWithCopyWarning: \n",
      "A value is trying to be set on a copy of a slice from a DataFrame\n",
      "\n",
      "See the caveats in the documentation: http://pandas.pydata.org/pandas-docs/stable/indexing.html#indexing-view-versus-copy\n",
      "C:\\Anaconda2\\lib\\site-packages\\ipykernel\\__main__.py:26: SettingWithCopyWarning: \n",
      "A value is trying to be set on a copy of a slice from a DataFrame\n",
      "\n",
      "See the caveats in the documentation: http://pandas.pydata.org/pandas-docs/stable/indexing.html#indexing-view-versus-copy\n",
      "C:\\Anaconda2\\lib\\site-packages\\ipykernel\\__main__.py:34: SettingWithCopyWarning: \n",
      "A value is trying to be set on a copy of a slice from a DataFrame\n",
      "\n",
      "See the caveats in the documentation: http://pandas.pydata.org/pandas-docs/stable/indexing.html#indexing-view-versus-copy\n",
      "C:\\Anaconda2\\lib\\site-packages\\ipykernel\\__main__.py:37: SettingWithCopyWarning: \n",
      "A value is trying to be set on a copy of a slice from a DataFrame\n",
      "\n",
      "See the caveats in the documentation: http://pandas.pydata.org/pandas-docs/stable/indexing.html#indexing-view-versus-copy\n",
      "C:\\Anaconda2\\lib\\site-packages\\ipykernel\\__main__.py:32: SettingWithCopyWarning: \n",
      "A value is trying to be set on a copy of a slice from a DataFrame\n",
      "\n",
      "See the caveats in the documentation: http://pandas.pydata.org/pandas-docs/stable/indexing.html#indexing-view-versus-copy\n",
      "C:\\Anaconda2\\lib\\site-packages\\ipykernel\\__main__.py:39: SettingWithCopyWarning: \n",
      "A value is trying to be set on a copy of a slice from a DataFrame\n",
      "\n",
      "See the caveats in the documentation: http://pandas.pydata.org/pandas-docs/stable/indexing.html#indexing-view-versus-copy\n",
      "C:\\Anaconda2\\lib\\site-packages\\ipykernel\\__main__.py:13: SettingWithCopyWarning: \n",
      "A value is trying to be set on a copy of a slice from a DataFrame\n",
      "\n",
      "See the caveats in the documentation: http://pandas.pydata.org/pandas-docs/stable/indexing.html#indexing-view-versus-copy\n",
      "C:\\Anaconda2\\lib\\site-packages\\ipykernel\\__main__.py:19: SettingWithCopyWarning: \n",
      "A value is trying to be set on a copy of a slice from a DataFrame\n",
      "\n",
      "See the caveats in the documentation: http://pandas.pydata.org/pandas-docs/stable/indexing.html#indexing-view-versus-copy\n"
     ]
    },
    {
     "name": "stdout",
     "output_type": "stream",
     "text": [
      "514\n"
     ]
    },
    {
     "name": "stderr",
     "output_type": "stream",
     "text": [
      "C:\\Anaconda2\\lib\\site-packages\\ipykernel\\__main__.py:41: SettingWithCopyWarning: \n",
      "A value is trying to be set on a copy of a slice from a DataFrame\n",
      "\n",
      "See the caveats in the documentation: http://pandas.pydata.org/pandas-docs/stable/indexing.html#indexing-view-versus-copy\n"
     ]
    },
    {
     "data": {
      "text/plain": [
       "0      1\n",
       "1      1\n",
       "10     0\n",
       "100    0\n",
       "101    0\n",
       "102    0\n",
       "103    0\n",
       "104    0\n",
       "105    0\n",
       "106    1\n",
       "107    0\n",
       "108    1\n",
       "109    1\n",
       "11     1\n",
       "110    0\n",
       "111    0\n",
       "112    0\n",
       "113    0\n",
       "114    0\n",
       "115    0\n",
       "Name: room_type, dtype: object"
      ]
     },
     "execution_count": 79,
     "metadata": {},
     "output_type": "execute_result"
    }
   ],
   "source": [
    "#compute price median and price_std\n",
    "calendar_price =  np.array([(np.median(calendar[\"price_USD\"].values()), np.std(calendar[\"price_USD\"].values())) for calendar in round3_clean[\"calendars\"].values])\n",
    "calendar_median_price = calendar_price[:,0]\n",
    "calendar_price_std = calendar_price[:,1]\n",
    "round3_clean[\"price_median\"]=calendar_median_price\n",
    "round3_clean[\"price_std\"]=calendar_price_std/calendar_median_price\n",
    "#cleaning\n",
    "for index, row in round3_clean.iterrows():\n",
    "    elem = str(row[\"host_acceptance_rate\"])\n",
    "    try:\n",
    "        round3_clean[\"host_acceptance_rate\"][index]= int( elem[:-1]) \n",
    "    except:\n",
    "        round3_clean[\"host_acceptance_rate\"][index]= int(-1) \n",
    "    \n",
    "    elem2 = str(row[\"host_response_rate\"])    \n",
    "    try:\n",
    "        round3_clean[\"host_response_rate\"][index]= int( elem2[:-1]) \n",
    "    except:\n",
    "        round3_clean[\"host_response_rate\"][index]= int(-1) \n",
    "    \n",
    "    #not used\n",
    "    elem3 = str(row[\"monthly_price\"])\n",
    "    try:\n",
    "        round3_clean[\"monthly_price\"][index]= int( elem3[1:]) \n",
    "    except:\n",
    "        round3_clean[\"monthly_price\"][index]= int(-1) \n",
    "    \n",
    "    #not used\n",
    "    #round3_clean[\"nightly_price\"][index] = int(row[nightly_price])\n",
    "\n",
    "    if row[\"host_is_superhost\"] == \"t\":\n",
    "        round3_clean[\"host_is_superhost\"][index] = 1\n",
    "    if row[\"host_is_superhost\"] == \"f\":\n",
    "        round3_clean[\"host_is_superhost\"][index] = 0\n",
    "    \n",
    "    if row[\"room_type\"]==  \"Private room\":\n",
    "        round3_clean[\"room_type\"][index] = 1\n",
    "    elif row[\"room_type\"]==\"Entire home/apt\":\n",
    "        round3_clean[\"room_type\"][index] = 0\n",
    "    else:\n",
    "        round3_clean[\"room_type\"][index] = 2\n",
    "        \n",
    "        \n",
    "print len(round3_clean)\n",
    "round3_clean[\"room_type\"].head(20)\n"
   ]
  },
  {
   "cell_type": "markdown",
   "metadata": {},
   "source": [
    "### creating 3 dataframes, one for accepted listing, one for denied and one for not answered. The \"not_answer\" is less important, but it will be shown anyway in the distributions "
   ]
  },
  {
   "cell_type": "code",
   "execution_count": 80,
   "metadata": {
    "collapsed": false
   },
   "outputs": [
    {
     "name": "stdout",
     "output_type": "stream",
     "text": [
      "113\n",
      "157\n",
      "244\n",
      "514\n"
     ]
    },
    {
     "data": {
      "text/html": [
       "<div>\n",
       "<table border=\"1\" class=\"dataframe\">\n",
       "  <thead>\n",
       "    <tr style=\"text-align: right;\">\n",
       "      <th></th>\n",
       "      <th>id</th>\n",
       "      <th>host_id</th>\n",
       "      <th>host_response_rate</th>\n",
       "      <th>host_acceptance_rate</th>\n",
       "      <th>host_total_listings_count</th>\n",
       "      <th>monthly_price</th>\n",
       "      <th>instant_bookable</th>\n",
       "      <th>room_type</th>\n",
       "      <th>bucket_name</th>\n",
       "      <th>discount_asked</th>\n",
       "      <th>...</th>\n",
       "      <th>price_agreed</th>\n",
       "      <th>discount_agreed</th>\n",
       "      <th>percent_agreed</th>\n",
       "      <th>calendars</th>\n",
       "      <th>price_requested</th>\n",
       "      <th>number_of_reviews</th>\n",
       "      <th>host_is_superhost</th>\n",
       "      <th>beds</th>\n",
       "      <th>price_median</th>\n",
       "      <th>price_std</th>\n",
       "    </tr>\n",
       "  </thead>\n",
       "  <tbody>\n",
       "    <tr>\n",
       "      <th>1</th>\n",
       "      <td>8516966</td>\n",
       "      <td>15728249</td>\n",
       "      <td>100</td>\n",
       "      <td>100</td>\n",
       "      <td>1</td>\n",
       "      <td>-1</td>\n",
       "      <td>f</td>\n",
       "      <td>1</td>\n",
       "      <td>days3_weeks1</td>\n",
       "      <td>0.9</td>\n",
       "      <td>...</td>\n",
       "      <td>185</td>\n",
       "      <td>NaN</td>\n",
       "      <td>NaN</td>\n",
       "      <td>{u'date': {u'24': u'2016-04-25', u'25': u'2016...</td>\n",
       "      <td>185</td>\n",
       "      <td>1</td>\n",
       "      <td>0</td>\n",
       "      <td>4</td>\n",
       "      <td>210</td>\n",
       "      <td>0.000000</td>\n",
       "    </tr>\n",
       "    <tr>\n",
       "      <th>10</th>\n",
       "      <td>1079511</td>\n",
       "      <td>4524825</td>\n",
       "      <td>-1</td>\n",
       "      <td>-1</td>\n",
       "      <td>1</td>\n",
       "      <td>-1</td>\n",
       "      <td>f</td>\n",
       "      <td>0</td>\n",
       "      <td>daysM_weeksM</td>\n",
       "      <td>0.9</td>\n",
       "      <td>...</td>\n",
       "      <td>170</td>\n",
       "      <td>NaN</td>\n",
       "      <td>NaN</td>\n",
       "      <td>{u'date': {u'24': u'2016-04-25', u'25': u'2016...</td>\n",
       "      <td>150</td>\n",
       "      <td>15</td>\n",
       "      <td>0</td>\n",
       "      <td>1</td>\n",
       "      <td>160</td>\n",
       "      <td>0.020952</td>\n",
       "    </tr>\n",
       "    <tr>\n",
       "      <th>103</th>\n",
       "      <td>10451994</td>\n",
       "      <td>53848488</td>\n",
       "      <td>93</td>\n",
       "      <td>0</td>\n",
       "      <td>1</td>\n",
       "      <td>-1</td>\n",
       "      <td>f</td>\n",
       "      <td>0</td>\n",
       "      <td>daysM_weeks2</td>\n",
       "      <td>0.9</td>\n",
       "      <td>...</td>\n",
       "      <td>80</td>\n",
       "      <td>NaN</td>\n",
       "      <td>NaN</td>\n",
       "      <td>{u'date': {u'24': u'2016-04-25', u'25': u'2016...</td>\n",
       "      <td>80</td>\n",
       "      <td>1</td>\n",
       "      <td>0</td>\n",
       "      <td>1</td>\n",
       "      <td>90</td>\n",
       "      <td>0.188228</td>\n",
       "    </tr>\n",
       "  </tbody>\n",
       "</table>\n",
       "<p>3 rows × 22 columns</p>\n",
       "</div>"
      ],
      "text/plain": [
       "           id   host_id host_response_rate host_acceptance_rate  \\\n",
       "1     8516966  15728249                100                  100   \n",
       "10    1079511   4524825                 -1                   -1   \n",
       "103  10451994  53848488                 93                    0   \n",
       "\n",
       "     host_total_listings_count monthly_price instant_bookable room_type  \\\n",
       "1                            1            -1                f         1   \n",
       "10                           1            -1                f         0   \n",
       "103                          1            -1                f         0   \n",
       "\n",
       "      bucket_name  discount_asked    ...      price_agreed  discount_agreed  \\\n",
       "1    days3_weeks1             0.9    ...               185              NaN   \n",
       "10   daysM_weeksM             0.9    ...               170              NaN   \n",
       "103  daysM_weeks2             0.9    ...                80              NaN   \n",
       "\n",
       "     percent_agreed                                          calendars  \\\n",
       "1               NaN  {u'date': {u'24': u'2016-04-25', u'25': u'2016...   \n",
       "10              NaN  {u'date': {u'24': u'2016-04-25', u'25': u'2016...   \n",
       "103             NaN  {u'date': {u'24': u'2016-04-25', u'25': u'2016...   \n",
       "\n",
       "     price_requested number_of_reviews  host_is_superhost  beds price_median  \\\n",
       "1                185                 1                  0     4          210   \n",
       "10               150                15                  0     1          160   \n",
       "103               80                 1                  0     1           90   \n",
       "\n",
       "     price_std  \n",
       "1     0.000000  \n",
       "10    0.020952  \n",
       "103   0.188228  \n",
       "\n",
       "[3 rows x 22 columns]"
      ]
     },
     "execution_count": 80,
     "metadata": {},
     "output_type": "execute_result"
    }
   ],
   "source": [
    "round3_accepted= round3_clean\n",
    "round3_denied= round3_clean\n",
    "round3_not_answer= round3_clean\n",
    "\n",
    "round3_accepted= round3_accepted.loc[round3_accepted['decision']==1]\n",
    "round3_denied= round3_denied.loc[round3_denied['decision']==0]\n",
    "round3_not_answer= round3_not_answer.loc[round3_not_answer['decision']==-1]\n",
    "\n",
    "\n",
    "print len(round3_accepted)\n",
    "print len(round3_denied)\n",
    "print len(round3_not_answer)\n",
    "print len(round3_clean)\n",
    "\n",
    "round3_accepted.head(3)\n"
   ]
  },
  {
   "cell_type": "markdown",
   "metadata": {},
   "source": [
    "### Comparison by variance. (normalized) It doesn't seem influential"
   ]
  },
  {
   "cell_type": "code",
   "execution_count": 81,
   "metadata": {
    "collapsed": false
   },
   "outputs": [
    {
     "data": {
      "image/png": "[encoded data removed]",
      "text/plain": [
       "<matplotlib.figure.Figure at 0x227e1940>"
      ]
     },
     "metadata": {},
     "output_type": "display_data"
    }
   ],
   "source": [
    "colors = sns.color_palette()\n",
    "\n",
    "fig = plt.figure(figsize=[12,8], facecolor=None)\n",
    "\n",
    "\n",
    "hist_multi = [round3_accepted['price_std'], \n",
    "              round3_denied['price_std'], \n",
    "              round3_not_answer['price_std']]\n",
    "labels = [\"accepted\", \"denied\", \"not_answer\"]\n",
    "plt.hist(hist_multi, bins=8, color=colors[:3], label=labels, normed= True)\n",
    "plt.xlabel('Price Variance')\n",
    "plt.ylabel('Number of Listings')\n",
    "plt.title('Price variance among host contacted')\n",
    "# plt.xlim([1./7,1])\n",
    "plt.xticks(np.linspace(0,1,8))\n",
    "\n",
    "plt.legend(loc=\"upper right\")\n",
    "plt.grid(False)\n",
    "\n"
   ]
  },
  {
   "cell_type": "markdown",
   "metadata": {},
   "source": [
    "### Distribution of the accepting hosts"
   ]
  },
  {
   "cell_type": "code",
   "execution_count": 82,
   "metadata": {
    "collapsed": false
   },
   "outputs": [
    {
     "name": "stdout",
     "output_type": "stream",
     "text": [
      "Percent Listings with No Price Change at All: 0.256637168142\n"
     ]
    },
    {
     "data": {
      "image/png": "[encoded data removed]",
      "text/plain": [
       "<matplotlib.figure.Figure at 0x2281da20>"
      ]
     },
     "metadata": {},
     "output_type": "display_data"
    }
   ],
   "source": [
    "fig = plt.figure(figsize=[20,8])\n",
    "\n",
    "\n",
    "plt.subplot(1,2,1)\n",
    "plt.hist(round3_accepted['price_median'].values,bins=20, color=colors[0], label=\"Average of Listing Price\")\n",
    "plt.xlabel('Price Avg')\n",
    "plt.ylabel('Number of Listings')\n",
    "plt.title('Distribution of Listed Price for Accepting Hosts')\n",
    "# plt.xlim([50,1400])\n",
    "#plt.xticks(np.linspace(0,700,25))\n",
    "\n",
    "plt.grid(False)\n",
    "plt.legend()\n",
    "\n",
    "plt.subplot(1,2,2)\n",
    "\n",
    "plt.hist(round3_accepted['price_std'].values, bins=25, color=colors[0], label=\"Standard Deviation of Listing Price for Accepting Hosts\"\n",
    "        )\n",
    "plt.ylabel('Number of Listings')\n",
    "plt.title('Distribution of Standard Devieation of Listing Price')\n",
    "\n",
    "plt.legend()\n",
    "plt.grid(False)\n",
    "print \"Percent Listings with No Price Change at All:\", len(round3_accepted[round3_accepted['price_std']==0])*1./len(round3_accepted)"
   ]
  },
  {
   "cell_type": "markdown",
   "metadata": {},
   "source": [
    "### Distribution of the denying hosts"
   ]
  },
  {
   "cell_type": "code",
   "execution_count": 83,
   "metadata": {
    "collapsed": false
   },
   "outputs": [
    {
     "name": "stdout",
     "output_type": "stream",
     "text": [
      "Percent Listings with No Price Change at All: 0.28025477707\n"
     ]
    },
    {
     "data": {
      "image/png": "[encoded data removed]",
      "text/plain": [
       "<matplotlib.figure.Figure at 0x22971d30>"
      ]
     },
     "metadata": {},
     "output_type": "display_data"
    }
   ],
   "source": [
    "\n",
    "fig = plt.figure(figsize=[20,8])\n",
    "\n",
    "\n",
    "plt.subplot(1,2,1)\n",
    "plt.hist(round3_denied['price_median'].values,bins=20, color=colors[0], label=\"Average of Listing Price\")\n",
    "plt.xlabel('Price Avg')\n",
    "plt.ylabel('Number of Listings')\n",
    "plt.title('Distribution of Listed Price')\n",
    "# plt.xlim([50,1400])\n",
    "#plt.xticks(np.linspace(0,700,25))\n",
    "\n",
    "plt.grid(False)\n",
    "plt.legend()\n",
    "\n",
    "plt.subplot(1,2,2)\n",
    "\n",
    "plt.hist(round3_denied['price_std'].values, bins=25, color=colors[0], label=\"Standard Deviation of Listing Price for Refusing Hosts\"\n",
    "         )\n",
    "plt.ylabel('Number of Listings')\n",
    "plt.title('Distribution of Standard Devieation of Listing Price for Refusing Hosts')\n",
    "\n",
    "plt.legend()\n",
    "plt.grid(False)\n",
    "print \"Percent Listings with No Price Change at All:\", len(round3_denied[round3_denied['price_std']==0])*1./len(round3_denied)"
   ]
  },
  {
   "cell_type": "markdown",
   "metadata": {},
   "source": [
    "### Distribution of the non-answering hosts"
   ]
  },
  {
   "cell_type": "code",
   "execution_count": 84,
   "metadata": {
    "collapsed": false
   },
   "outputs": [
    {
     "name": "stdout",
     "output_type": "stream",
     "text": [
      "Percent Listings with No Price Change at All: 0.327868852459\n"
     ]
    },
    {
     "data": {
      "image/png": "[encoded data removed]",
      "text/plain": [
       "<matplotlib.figure.Figure at 0x22cf9be0>"
      ]
     },
     "metadata": {},
     "output_type": "display_data"
    }
   ],
   "source": [
    "\n",
    "fig = plt.figure(figsize=[20,8])\n",
    "\n",
    "\n",
    "plt.subplot(1,2,1)\n",
    "plt.hist(round3_not_answer['price_median'].values,bins=20, color=colors[0], label=\"Average of Listing Price\")\n",
    "plt.xlabel('Price Avg')\n",
    "plt.ylabel('Number of Listings')\n",
    "plt.title('Distribution of Listed Price')\n",
    "\n",
    "# plt.xlim([50,1400])\n",
    "\n",
    "#plt.xticks(np.linspace(0,700,25))\n",
    "\n",
    "plt.grid(False)\n",
    "plt.legend()\n",
    "\n",
    "plt.subplot(1,2,2)\n",
    "\n",
    "plt.hist(round3_not_answer['price_std'].values, bins=25, color=colors[0], label=\"Standard Deviation of Listing Price\")\n",
    "plt.ylabel('Number of Listings')\n",
    "plt.title('Distribution of Standard Devieation of Listing Price')\n",
    "\n",
    "plt.legend()\n",
    "plt.grid(False)\n",
    "print \"Percent Listings with No Price Change at All:\", len(round3_not_answer[round3_not_answer['price_std']==0])*1./len(round3_not_answer)"
   ]
  },
  {
   "cell_type": "markdown",
   "metadata": {},
   "source": [
    "### Superhost feature. It doesn't seem influential."
   ]
  },
  {
   "cell_type": "code",
   "execution_count": 85,
   "metadata": {
    "collapsed": false
   },
   "outputs": [
    {
     "data": {
      "image/png": "[encoded data removed]",
      "text/plain": [
       "<matplotlib.figure.Figure at 0x25a47f28>"
      ]
     },
     "metadata": {},
     "output_type": "display_data"
    }
   ],
   "source": [
    "colors = sns.color_palette()\n",
    "\n",
    "fig = plt.figure(figsize=[12,8], facecolor=None)\n",
    "\n",
    "\n",
    "hist_multi = [round3_accepted['host_is_superhost'], \n",
    "              round3_denied['host_is_superhost'], \n",
    "              round3_not_answer['host_is_superhost']]\n",
    "labels = [\"accepted\", \"denied\", \"not_answer\"]\n",
    "plt.hist(hist_multi, bins=8, color=colors[:3], label=labels, normed= True)\n",
    "plt.xlabel('0 non superhost(left) 1 superhost(right) ')\n",
    "plt.ylabel('Number of Listings')\n",
    "plt.title('Host is superhost vs host contacted')\n",
    "# plt.xlim([1./7,1])\n",
    "plt.xticks(np.linspace(0,1,8))\n",
    "\n",
    "plt.legend(loc=\"upper right\")\n",
    "plt.grid(False)"
   ]
  },
  {
   "cell_type": "markdown",
   "metadata": {},
   "source": [
    "### Acceptance rate feature. It doesn't seem influential."
   ]
  },
  {
   "cell_type": "code",
   "execution_count": 86,
   "metadata": {
    "collapsed": false
   },
   "outputs": [
    {
     "data": {
      "image/png": "[encoded data removed]",
      "text/plain": [
       "<matplotlib.figure.Figure at 0x25d823c8>"
      ]
     },
     "metadata": {},
     "output_type": "display_data"
    }
   ],
   "source": [
    "colors = sns.color_palette()\n",
    "\n",
    "fig = plt.figure(figsize=[12,8], facecolor=None)\n",
    "\n",
    "\n",
    "hist_multi = [round3_accepted['host_acceptance_rate'], \n",
    "              round3_denied['host_acceptance_rate'], \n",
    "              round3_not_answer['host_acceptance_rate']]\n",
    "labels = [\"accepted\", \"denied\", \"not_answer\"]\n",
    "plt.hist(hist_multi, bins=8, color=colors[:3], label=labels, normed= True)\n",
    "plt.xlabel('Acceptance rate')\n",
    "plt.ylabel('Number of Listings')\n",
    "plt.title('Acceptance rate among host contacted')\n",
    "# plt.xlim([1./7,1])\n",
    "plt.xticks(np.linspace(0,1,8))\n",
    "\n",
    "plt.legend(loc=\"upper left\")\n",
    "plt.grid(False)"
   ]
  },
  {
   "cell_type": "markdown",
   "metadata": {},
   "source": [
    "### Response rate feature. It doesn't seem influential."
   ]
  },
  {
   "cell_type": "code",
   "execution_count": 87,
   "metadata": {
    "collapsed": false
   },
   "outputs": [
    {
     "data": {
      "image/png": "[encoded data removed]",
      "text/plain": [
       "<matplotlib.figure.Figure at 0x25bdec50>"
      ]
     },
     "metadata": {},
     "output_type": "display_data"
    }
   ],
   "source": [
    "colors = sns.color_palette()\n",
    "\n",
    "fig = plt.figure(figsize=[12,8], facecolor=None)\n",
    "\n",
    "\n",
    "hist_multi = [round3_accepted['host_response_rate'], \n",
    "              round3_denied['host_response_rate'], \n",
    "              round3_not_answer['host_response_rate']]\n",
    "labels = [\"accepted\", \"denied\", \"not_answer\"]\n",
    "plt.hist(hist_multi, bins=8, color=colors[:3], label=labels, normed= True)\n",
    "plt.xlabel('Response rate')\n",
    "plt.ylabel('Number of Listings')\n",
    "plt.title('Response rate among host contacted')\n",
    "# plt.xlim([1./7,1])\n",
    "plt.xticks(np.linspace(0,1,8))\n",
    "\n",
    "plt.legend(loc=\"upper left\")\n",
    "plt.grid(False)"
   ]
  },
  {
   "cell_type": "markdown",
   "metadata": {},
   "source": [
    "### Room type. It seems that is slightly more likely to obtain a discount in entire home"
   ]
  },
  {
   "cell_type": "code",
   "execution_count": 88,
   "metadata": {
    "collapsed": false
   },
   "outputs": [
    {
     "data": {
      "image/png": "[encoded data removed]",
      "text/plain": [
       "<matplotlib.figure.Figure at 0x2286fd30>"
      ]
     },
     "metadata": {},
     "output_type": "display_data"
    }
   ],
   "source": [
    "colors = sns.color_palette()\n",
    "\n",
    "fig = plt.figure(figsize=[12,8], facecolor=None)\n",
    "\n",
    "\n",
    "hist_multi = [round3_accepted['room_type'], \n",
    "              round3_denied['room_type'], \n",
    "              round3_not_answer['room_type']]\n",
    "labels = [\"accepted\", \"denied\", \"not_answer\"]\n",
    "plt.hist(hist_multi, bins=8, color=colors[:3], label=labels, normed= True)\n",
    "plt.xlabel('Type of room: 0 entire home; 1 private room; 2: shared')\n",
    "plt.ylabel('Number of Listings')\n",
    "plt.title('Acceptance vs type of room')\n",
    "# plt.xlim([1./7,1])\n",
    "plt.xticks(np.linspace(0,1,8))\n",
    "\n",
    "plt.legend(loc=\"upper left\")\n",
    "plt.grid(False)"
   ]
  },
  {
   "cell_type": "markdown",
   "metadata": {},
   "source": [
    "### Number of additional guests. The more the guests, the highest the probability of a discount, even if there are not enough data for a strong evidence. It may be related to the type of room."
   ]
  },
  {
   "cell_type": "code",
   "execution_count": 89,
   "metadata": {
    "collapsed": false
   },
   "outputs": [
    {
     "data": {
      "image/png": "[encoded data removed]",
      "text/plain": [
       "<matplotlib.figure.Figure at 0x1fe78c88>"
      ]
     },
     "metadata": {},
     "output_type": "display_data"
    }
   ],
   "source": [
    "colors = sns.color_palette()\n",
    "\n",
    "fig = plt.figure(figsize=[12,8], facecolor=None)\n",
    "\n",
    "\n",
    "hist_multi = [round3_accepted['beds'], \n",
    "              round3_denied['beds'], \n",
    "              round3_not_answer['beds']]\n",
    "labels = [\"accepted\", \"denied\", \"not_answer\"]\n",
    "plt.hist(hist_multi, bins=8, color=colors[:3], label=labels, normed= True)\n",
    "plt.xlabel('Additional guests: 0, 1, 2, 3, 4, 5 ,6')\n",
    "plt.ylabel('Number of Listings')\n",
    "plt.title('Additional guests vs type of room')\n",
    "# plt.xlim([1./7,1])\n",
    "plt.xticks(np.linspace(0,1,8))\n",
    "\n",
    "plt.legend(loc=\"upper left\")\n",
    "plt.grid(False)"
   ]
  },
  {
   "cell_type": "markdown",
   "metadata": {},
   "source": [
    "### Price median. The bigger the price, the bigger the probability of a discount. Not strongly evident."
   ]
  },
  {
   "cell_type": "code",
   "execution_count": 90,
   "metadata": {
    "collapsed": false,
    "scrolled": false
   },
   "outputs": [
    {
     "data": {
      "image/png": "[encoded data removed]",
      "text/plain": [
       "<matplotlib.figure.Figure at 0x2296deb8>"
      ]
     },
     "metadata": {},
     "output_type": "display_data"
    }
   ],
   "source": [
    "\n",
    "colors = sns.color_palette()\n",
    "\n",
    "fig = plt.figure(figsize=[12,8], facecolor=None)\n",
    "\n",
    "\n",
    "hist_multi = [round3_accepted['price_median'], \n",
    "              round3_denied['price_median'], \n",
    "              round3_not_answer['price_median']]\n",
    "labels = [\"accepted\", \"denied\", \"not_answer\"]\n",
    "plt.hist(hist_multi, bins=8, color=colors[:3], label=labels, normed= True)\n",
    "plt.xlabel('Price median')\n",
    "plt.ylabel('Number of Listings')\n",
    "plt.title('Price median vs type of room')\n",
    "# plt.xlim([1./7,1])\n",
    "plt.xticks(np.linspace(0,1,8))\n",
    "\n",
    "plt.legend(loc=\"upper right\")\n",
    "plt.grid(False)"
   ]
  },
  {
   "cell_type": "code",
   "execution_count": 91,
   "metadata": {
    "collapsed": false
   },
   "outputs": [
    {
     "name": "stdout",
     "output_type": "stream",
     "text": [
      "               0\n",
      "days3_weeks2   7\n",
      "daysM_weeksM   6\n",
      "days3_weeks1   6\n",
      "days2_weeks2  13\n",
      "days1_weeks1   4\n",
      "days1_weeks2  13\n",
      "days1_weeksM  11\n",
      "days2_weeks1  11\n",
      "days2_weeksM   9\n",
      "daysM_weeks1   9\n",
      "daysM_weeks2  11\n",
      "days3_weeksM  13\n",
      "Counter({u'days2_weeks2': 13, u'days1_weeks2': 13, u'days3_weeksM': 13, u'days1_weeksM': 11, u'days2_weeks1': 11, u'daysM_weeks2': 11, u'days2_weeksM': 9, u'daysM_weeks1': 9, u'days3_weeks2': 7, u'daysM_weeksM': 6, u'days3_weeks1': 6, u'days1_weeks1': 4})\n"
     ]
    },
    {
     "data": {
      "image/png": "[encoded data removed]",
      "text/plain": [
       "<matplotlib.figure.Figure at 0x22b39c50>"
      ]
     },
     "metadata": {},
     "output_type": "display_data"
    }
   ],
   "source": [
    "from collections import Counter\n",
    "bucket_counts = Counter(round3_accepted['bucket_name'])\n",
    "accepted_by_buckets = pd.DataFrame.from_dict(bucket_counts, orient='index')\n",
    "accepted_by_buckets.plot(kind='bar')\n",
    "print accepted_by_buckets\n",
    "\n",
    "print bucket_counts"
   ]
  },
  {
   "cell_type": "code",
   "execution_count": 92,
   "metadata": {
    "collapsed": false
   },
   "outputs": [
    {
     "name": "stdout",
     "output_type": "stream",
     "text": [
      "               0\n",
      "days3_weeks2   9\n",
      "daysM_weeksM  15\n",
      "days3_weeks1  13\n",
      "days2_weeks2  12\n",
      "days1_weeks1  11\n",
      "days1_weeks2  11\n",
      "days1_weeksM  14\n",
      "days2_weeks1  15\n",
      "days2_weeksM  17\n",
      "daysM_weeks1  13\n",
      "daysM_weeks2  16\n",
      "days3_weeksM  11\n"
     ]
    },
    {
     "data": {
      "image/png": "[encoded data removed]",
      "text/plain": [
       "<matplotlib.figure.Figure at 0x2337a6a0>"
      ]
     },
     "metadata": {},
     "output_type": "display_data"
    }
   ],
   "source": [
    "bucket_counts = Counter(round3_denied['bucket_name'])\n",
    "denied_by_buckets = pd.DataFrame.from_dict(bucket_counts, orient='index')\n",
    "denied_by_buckets.plot(kind='bar')\n",
    "print denied_by_buckets\n"
   ]
  },
  {
   "cell_type": "code",
   "execution_count": 93,
   "metadata": {
    "collapsed": false
   },
   "outputs": [
    {
     "name": "stdout",
     "output_type": "stream",
     "text": [
      "               0\n",
      "days2_weeks1  16\n",
      "daysM_weeksM  22\n",
      "days3_weeks1  24\n",
      "days2_weeks2  18\n",
      "days1_weeks1  27\n",
      "days1_weeks2  19\n",
      "days1_weeksM  18\n",
      "days2_weeksM  17\n",
      "daysM_weeks1  21\n",
      "daysM_weeks2  16\n",
      "days3_weeksM  19\n",
      "days3_weeks2  27\n"
     ]
    },
    {
     "data": {
      "image/png": "[encoded data removed]",
      "text/plain": [
       "<matplotlib.figure.Figure at 0x2337a080>"
      ]
     },
     "metadata": {},
     "output_type": "display_data"
    }
   ],
   "source": [
    "bucket_counts = Counter(round3_not_answer['bucket_name'])\n",
    "not_answer_by_buckets = pd.DataFrame.from_dict(bucket_counts, orient='index')\n",
    "not_answer_by_buckets.plot(kind='bar')\n",
    "print not_answer_by_buckets"
   ]
  },
  {
   "cell_type": "code",
   "execution_count": 94,
   "metadata": {
    "collapsed": false
   },
   "outputs": [
    {
     "name": "stdout",
     "output_type": "stream",
     "text": [
      "11\n",
      "15\n",
      "16\n",
      "6\n",
      "13\n",
      "24\n"
     ]
    }
   ],
   "source": [
    "print accepted_by_buckets[0][\"days2_weeks1\"]\n",
    "print denied_by_buckets[0][\"days2_weeks1\"]\n",
    "print not_answer_by_buckets[0][\"days2_weeks1\"]\n",
    "\n",
    "print accepted_by_buckets[0][\"days3_weeks1\"]\n",
    "print denied_by_buckets[0][\"days3_weeks1\"]\n",
    "print not_answer_by_buckets[0][\"days3_weeks1\"]"
   ]
  },
  {
   "cell_type": "markdown",
   "metadata": {},
   "source": [
    "### Number of accepted/ acceptance rate and number of denied/denial rate of each bucket"
   ]
  },
  {
   "cell_type": "code",
   "execution_count": 108,
   "metadata": {
    "collapsed": false
   },
   "outputs": [],
   "source": [
    "#days in advance/ acceptance rate\n",
    "\n",
    "\n",
    "\n",
    "###IMPORTANT###\n",
    "#the result of study samples contains 4 elements: [number_of_studied_bucket, acceptance_rate_of_studied_bucket,\n",
    "# (other_datapoints - number_of_studied_bucket), (acceptance_rate_of(other_datapoints - number_of_studied_bucket)]\n",
    "                                        \n",
    "def study_sample(vector_index, sample, label, values, consider_missing):\n",
    "   \n",
    "    \n",
    "    positive=0\n",
    "    #round2 and round3 have buckets of size 20 and 25\n",
    "    bucket_size=0\n",
    "    res= []\n",
    "    for inde in vector_index:       \n",
    "        positive = positive + values[0][inde]\n",
    "        bucket_size=bucket_size+accepted_by_buckets[0][inde]\n",
    "        bucket_size=bucket_size+denied_by_buckets[0][inde]        \n",
    "        if consider_missing:\n",
    "            bucket_size=bucket_size+not_answer_by_buckets[0][inde]\n",
    "        \n",
    "        #print \"partial size \"+ str(bucket_size)\n",
    "    \n",
    "    print label +\": \" + str(positive)\n",
    "    res.append(positive)\n",
    "    p_rate= float(positive) /(bucket_size)\n",
    "    print label + \" rate: \"+ str(p_rate) \n",
    "    res.append(p_rate)\n",
    "    \n",
    "    #rest of data points\n",
    "    negative = len(sample)-positive\n",
    "    res.append(negative)\n",
    "    print \"others except \"+ label +\": \" + str(negative)\n",
    "    if not consider_missing:\n",
    "        n_rate= float(negative) / ((len(round3_accepted)+len(round3_denied) )-bucket_size )     \n",
    "    else:\n",
    "        n_rate= float(negative) / (len(round3_clean)-bucket_size ) \n",
    "    \n",
    "    res.append(n_rate)\n",
    "    print \"others except \"+label + \" rate: \"+str(n_rate)\n",
    "    print \"\\n\"\n",
    "    \n",
    "    return res \n",
    "\n",
    "\n"
   ]
  },
  {
   "cell_type": "markdown",
   "metadata": {},
   "source": [
    "### Study of acceptance rate without considering the missing responses"
   ]
  },
  {
   "cell_type": "code",
   "execution_count": 109,
   "metadata": {
    "collapsed": false
   },
   "outputs": [
    {
     "name": "stdout",
     "output_type": "stream",
     "text": [
      "orphan 1 accepted: 28\n",
      "orphan 1 accepted rate: 0.4375\n",
      "others except orphan 1 accepted: 85\n",
      "others except orphan 1 accepted rate: 0.412621359223\n",
      "\n",
      "\n",
      "orphan 1 denied: 36\n",
      "orphan 1 denied rate: 0.5625\n",
      "others except orphan 1 denied: 121\n",
      "others except orphan 1 denied rate: 0.587378640777\n",
      "\n",
      "\n",
      "orphan 2 accepted: 33\n",
      "orphan 2 accepted rate: 0.428571428571\n",
      "others except orphan 2 accepted: 80\n",
      "others except orphan 2 accepted rate: 0.414507772021\n",
      "\n",
      "\n",
      "orphan 2 denied: 44\n",
      "orphan 2 denied rate: 0.571428571429\n",
      "others except orphan 2 denied: 113\n",
      "others except orphan 2 denied rate: 0.585492227979\n",
      "\n",
      "\n",
      "orphan 3 accepted: 26\n",
      "orphan 3 accepted rate: 0.440677966102\n",
      "others except orphan 3 accepted: 87\n",
      "others except orphan 3 accepted rate: 0.412322274882\n",
      "\n",
      "\n",
      "orphan 3 denied: 33\n",
      "orphan 3 denied rate: 0.559322033898\n",
      "others except orphan 3 denied: 124\n",
      "others except orphan 3 denied rate: 0.587677725118\n",
      "\n",
      "\n",
      "non orphan accepted: 26\n",
      "non orphan accepted rate: 0.371428571429\n",
      "others except non orphan accepted: 87\n",
      "others except non orphan accepted rate: 0.435\n",
      "\n",
      "\n",
      "non orphan denied: 44\n",
      "non orphan denied rate: 0.628571428571\n",
      "others except non orphan denied: 113\n",
      "others except non orphan denied rate: 0.565\n",
      "\n",
      "\n",
      "adv 1 accepted: 30\n",
      "adv 1 accepted rate: 0.365853658537\n",
      "others except adv 1 accepted: 83\n",
      "others except adv 1 accepted rate: 0.441489361702\n",
      "\n",
      "\n",
      "adv 1 denied: 52\n",
      "adv 1 denied rate: 0.634146341463\n",
      "others except adv 1 denied: 105\n",
      "others except adv 1 denied rate: 0.558510638298\n",
      "\n",
      "\n",
      "adv 2 accepted: 44\n",
      "adv 2 accepted rate: 0.478260869565\n",
      "others except adv 2 accepted: 69\n",
      "others except adv 2 accepted rate: 0.387640449438\n",
      "\n",
      "\n",
      "adv 2 denied: 48\n",
      "adv 2 denied rate: 0.521739130435\n",
      "others except adv 2 denied: 109\n",
      "others except adv 2 denied rate: 0.612359550562\n",
      "\n",
      "\n",
      "adv M accepted: 39\n",
      "adv M accepted rate: 0.40625\n",
      "others except adv M accepted: 74\n",
      "others except adv M accepted rate: 0.425287356322\n",
      "\n",
      "\n",
      "adv M denied: 57\n",
      "adv M denied rate: 0.59375\n",
      "others except adv M denied: 100\n",
      "others except adv M denied rate: 0.574712643678\n",
      "\n",
      "\n"
     ]
    }
   ],
   "source": [
    "orp1_acc= study_sample ([\"days1_weeks1\",\"days1_weeks2\",\"days1_weeksM\" ],round3_accepted, \"orphan 1 accepted\", accepted_by_buckets, False)\n",
    "orp1_den= study_sample ([\"days1_weeks1\",\"days1_weeks2\",\"days1_weeksM\"],round3_denied, \"orphan 1 denied\", denied_by_buckets, False)\n",
    "\n",
    "orp2_acc= study_sample ([\"days2_weeks1\",\"days2_weeks2\",\"days2_weeksM\"],round3_accepted, \"orphan 2 accepted\", accepted_by_buckets, False)\n",
    "orp2_den= study_sample ([\"days2_weeks1\",\"days2_weeks2\",\"days2_weeksM\"],round3_denied, \"orphan 2 denied\", denied_by_buckets, False)\n",
    "\n",
    "orp3_acc= study_sample ([\"days3_weeks1\",\"days3_weeks2\",\"days3_weeksM\"],round3_accepted, \"orphan 3 accepted\", accepted_by_buckets, False)\n",
    "orp3_den= study_sample ([\"days3_weeks1\",\"days3_weeks2\",\"days3_weeksM\"],round3_denied, \"orphan 3 denied\", denied_by_buckets, False)\n",
    "\n",
    "orpM_acc= study_sample ([\"daysM_weeks1\",\"daysM_weeks2\",\"daysM_weeksM\" ],round3_accepted, \"non orphan accepted\", accepted_by_buckets, False)\n",
    "orpM_den= study_sample ([\"daysM_weeks1\",\"daysM_weeks2\",\"daysM_weeksM\"],round3_denied, \"non orphan denied\", denied_by_buckets, False)\n",
    "\n",
    "adv1_acc= study_sample ([\"days1_weeks1\",\"days2_weeks1\",\"days3_weeks1\", \"daysM_weeks1\" ],round3_accepted, \"adv 1 accepted\", \n",
    "                        accepted_by_buckets, False)\n",
    "adv1_den= study_sample ([\"days1_weeks1\",\"days2_weeks1\",\"days3_weeks1\", \"daysM_weeks1\" ],round3_denied, \"adv 1 denied\", denied_by_buckets,\n",
    "                       False)\n",
    "\n",
    "adv2_acc= study_sample ([\"days1_weeks2\",\"days2_weeks2\",\"days3_weeks2\", \"daysM_weeks2\" ],round3_accepted, \"adv 2 accepted\",\n",
    "                        accepted_by_buckets, False)\n",
    "adv2_den= study_sample ([\"days1_weeks2\",\"days2_weeks2\",\"days3_weeks2\", \"daysM_weeks2\" ],round3_denied, \"adv 2 denied\", denied_by_buckets, \n",
    "                        False)\n",
    "\n",
    "advM_acc= study_sample ([\"days1_weeksM\",\"days2_weeksM\",\"days3_weeksM\", \"daysM_weeksM\" ],round3_accepted, \"adv M accepted\", \n",
    "                        accepted_by_buckets, False)\n",
    "advM_den= study_sample ([\"days1_weeksM\",\"days2_weeksM\",\"days3_weeksM\", \"daysM_weeksM\" ],round3_denied, \"adv M denied\", \n",
    "                        denied_by_buckets, False)\n",
    "\n",
    "\n",
    "\n"
   ]
  },
  {
   "cell_type": "markdown",
   "metadata": {},
   "source": [
    "### \"1 week in advance\" has  lower acceptance rate than the others. The average acceptance rate of the orphan days is above the non-orphans"
   ]
  },
  {
   "cell_type": "code",
   "execution_count": 105,
   "metadata": {
    "collapsed": false
   },
   "outputs": [
    {
     "name": "stdout",
     "output_type": "stream",
     "text": [
      "********length in advance*************\n",
      "\n",
      "\n",
      "**acceptance**\n",
      "1 w:0.365853658537\n",
      "2 w:0.478260869565\n",
      "M w:0.40625\n",
      "**refusal**\n",
      "1 w:0.634146341463\n",
      "2 w:0.521739130435\n",
      "M w:0.59375\n",
      "\n",
      "\n",
      "********orphan VS non orphan*************\n",
      "\n",
      "\n",
      "**acceptance**\n",
      "orph 1:0.4375\n",
      "orph 2:0.428571428571\n",
      "orph 3:0.440677966102\n",
      "non orph:0.371428571429\n",
      "**refusal**\n",
      "orph 1:0.5625\n",
      "orph 2:0.571428571429\n",
      "orph 3:0.559322033898\n",
      "non orph:0.628571428571\n"
     ]
    }
   ],
   "source": [
    "print \"********length in advance*************\"\n",
    "print \"\\n\"\n",
    "print \"**acceptance**\"\n",
    "print \"1 w:\" +str(adv1_acc[1])\n",
    "print \"2 w:\" +str(adv2_acc[1])\n",
    "print \"M w:\" +str(advM_acc[1])\n",
    "\n",
    "print \"**refusal**\"\n",
    "print \"1 w:\" +str(adv1_den[1])\n",
    "print \"2 w:\" +str(adv2_den[1])\n",
    "print \"M w:\" +str(advM_den[1])\n",
    "print \"\\n\"\n",
    "print \"********orphan VS non orphan*************\"\n",
    "print \"\\n\"\n",
    "print \"**acceptance**\"\n",
    "print \"orph 1:\" +str(orp1_acc[1])\n",
    "print \"orph 2:\" +str(orp2_acc[1])\n",
    "print \"orph 3:\" +str(orp3_acc[1])\n",
    "print \"non orph:\" +str(orpM_acc[1])\n",
    "\n",
    "print \"**refusal**\"\n",
    "print \"orph 1:\" +str(orp1_den[1])\n",
    "print \"orph 2:\" +str(orp2_den[1])\n",
    "print \"orph 3:\" +str(orp3_den[1])\n",
    "print \"non orph:\" +str(orpM_den[1])"
   ]
  },
  {
   "cell_type": "markdown",
   "metadata": {},
   "source": [
    "### Study of acceptance rate considering alse the missing responses"
   ]
  },
  {
   "cell_type": "code",
   "execution_count": 110,
   "metadata": {
    "collapsed": false
   },
   "outputs": [
    {
     "name": "stdout",
     "output_type": "stream",
     "text": [
      "orphan 1 accepted: 28\n",
      "orphan 1 accepted rate: 0.21875\n",
      "others except orphan 1 accepted: 85\n",
      "others except orphan 1 accepted rate: 0.220207253886\n",
      "\n",
      "\n",
      "orphan 1 denied: 36\n",
      "orphan 1 denied rate: 0.28125\n",
      "others except orphan 1 denied: 121\n",
      "others except orphan 1 denied rate: 0.313471502591\n",
      "\n",
      "\n",
      "orphan 2 accepted: 33\n",
      "orphan 2 accepted rate: 0.2578125\n",
      "others except orphan 2 accepted: 80\n",
      "others except orphan 2 accepted rate: 0.20725388601\n",
      "\n",
      "\n",
      "orphan 2 denied: 44\n",
      "orphan 2 denied rate: 0.34375\n",
      "others except orphan 2 denied: 113\n",
      "others except orphan 2 denied rate: 0.29274611399\n",
      "\n",
      "\n",
      "orphan 3 accepted: 26\n",
      "orphan 3 accepted rate: 0.201550387597\n",
      "others except orphan 3 accepted: 87\n",
      "others except orphan 3 accepted rate: 0.225974025974\n",
      "\n",
      "\n",
      "orphan 3 denied: 33\n",
      "orphan 3 denied rate: 0.255813953488\n",
      "others except orphan 3 denied: 124\n",
      "others except orphan 3 denied rate: 0.322077922078\n",
      "\n",
      "\n",
      "non orphan accepted: 26\n",
      "non orphan accepted rate: 0.201550387597\n",
      "others except non orphan accepted: 87\n",
      "others except non orphan accepted rate: 0.225974025974\n",
      "\n",
      "\n",
      "non orphan denied: 44\n",
      "non orphan denied rate: 0.341085271318\n",
      "others except non orphan denied: 113\n",
      "others except non orphan denied rate: 0.293506493506\n",
      "\n",
      "\n",
      "adv 1 accepted: 30\n",
      "adv 1 accepted rate: 0.176470588235\n",
      "others except adv 1 accepted: 83\n",
      "others except adv 1 accepted rate: 0.241279069767\n",
      "\n",
      "\n",
      "adv 1 denied: 52\n",
      "adv 1 denied rate: 0.305882352941\n",
      "others except adv 1 denied: 105\n",
      "others except adv 1 denied rate: 0.30523255814\n",
      "\n",
      "\n",
      "adv 2 accepted: 44\n",
      "adv 2 accepted rate: 0.255813953488\n",
      "others except adv 2 accepted: 69\n",
      "others except adv 2 accepted rate: 0.201754385965\n",
      "\n",
      "\n",
      "adv 2 denied: 48\n",
      "adv 2 denied rate: 0.279069767442\n",
      "others except adv 2 denied: 109\n",
      "others except adv 2 denied rate: 0.318713450292\n",
      "\n",
      "\n",
      "adv M accepted: 39\n",
      "adv M accepted rate: 0.226744186047\n",
      "others except adv M accepted: 74\n",
      "others except adv M accepted rate: 0.216374269006\n",
      "\n",
      "\n",
      "adv M denied: 57\n",
      "adv M denied rate: 0.331395348837\n",
      "others except adv M denied: 100\n",
      "others except adv M denied rate: 0.292397660819\n",
      "\n",
      "\n"
     ]
    }
   ],
   "source": [
    "orp1_acc= study_sample ([\"days1_weeks1\",\"days1_weeks2\",\"days1_weeksM\" ],round3_accepted, \"orphan 1 accepted\", accepted_by_buckets, True)\n",
    "orp1_den= study_sample ([\"days1_weeks1\",\"days1_weeks2\",\"days1_weeksM\"],round3_denied, \"orphan 1 denied\", denied_by_buckets, True)\n",
    "\n",
    "orp2_acc= study_sample ([\"days2_weeks1\",\"days2_weeks2\",\"days2_weeksM\"],round3_accepted, \"orphan 2 accepted\", accepted_by_buckets, True)\n",
    "orp2_den= study_sample ([\"days2_weeks1\",\"days2_weeks2\",\"days2_weeksM\"],round3_denied, \"orphan 2 denied\", denied_by_buckets, True)\n",
    "\n",
    "orp3_acc= study_sample ([\"days3_weeks1\",\"days3_weeks2\",\"days3_weeksM\"],round3_accepted, \"orphan 3 accepted\", accepted_by_buckets, True)\n",
    "orp3_den= study_sample ([\"days3_weeks1\",\"days3_weeks2\",\"days3_weeksM\"],round3_denied, \"orphan 3 denied\", denied_by_buckets, True)\n",
    "\n",
    "orpM_acc= study_sample ([\"daysM_weeks1\",\"daysM_weeks2\",\"daysM_weeksM\" ],round3_accepted, \"non orphan accepted\", accepted_by_buckets, True)\n",
    "orpM_den= study_sample ([\"daysM_weeks1\",\"daysM_weeks2\",\"daysM_weeksM\"],round3_denied, \"non orphan denied\", denied_by_buckets, True)\n",
    "\n",
    "adv1_acc= study_sample ([\"days1_weeks1\",\"days2_weeks1\",\"days3_weeks1\", \"daysM_weeks1\" ],round3_accepted, \"adv 1 accepted\", \n",
    "                        accepted_by_buckets, True)\n",
    "adv1_den= study_sample ([\"days1_weeks1\",\"days2_weeks1\",\"days3_weeks1\", \"daysM_weeks1\" ],round3_denied, \"adv 1 denied\", denied_by_buckets, True)\n",
    "\n",
    "adv2_acc= study_sample ([\"days1_weeks2\",\"days2_weeks2\",\"days3_weeks2\", \"daysM_weeks2\" ],round3_accepted, \"adv 2 accepted\",\n",
    "                        accepted_by_buckets, True)\n",
    "adv2_den= study_sample ([\"days1_weeks2\",\"days2_weeks2\",\"days3_weeks2\", \"daysM_weeks2\" ],round3_denied, \"adv 2 denied\", denied_by_buckets, True)\n",
    "\n",
    "advM_acc= study_sample ([\"days1_weeksM\",\"days2_weeksM\",\"days3_weeksM\", \"daysM_weeksM\" ],round3_accepted, \"adv M accepted\", \n",
    "                        accepted_by_buckets, True)\n",
    "advM_den= study_sample ([\"days1_weeksM\",\"days2_weeksM\",\"days3_weeksM\", \"daysM_weeksM\" ],round3_denied, \"adv M denied\", \n",
    "                        denied_by_buckets, True)"
   ]
  },
  {
   "cell_type": "code",
   "execution_count": 111,
   "metadata": {
    "collapsed": false
   },
   "outputs": [
    {
     "name": "stdout",
     "output_type": "stream",
     "text": [
      "********length in advance*************\n",
      "\n",
      "\n",
      "**acceptance**\n",
      "1 w:0.176470588235\n",
      "2 w:0.255813953488\n",
      "M w:0.226744186047\n",
      "**refusal**\n",
      "1 w:0.305882352941\n",
      "2 w:0.279069767442\n",
      "M w:0.331395348837\n",
      "\n",
      "\n",
      "********orphan VS non orphan*************\n",
      "\n",
      "\n",
      "**acceptance**\n",
      "orph 1:0.21875\n",
      "orph 2:0.2578125\n",
      "orph 3:0.201550387597\n",
      "non orph:0.201550387597\n",
      "**refusal**\n",
      "orph 1:0.28125\n",
      "orph 2:0.34375\n",
      "orph 3:0.255813953488\n",
      "non orph:0.341085271318\n"
     ]
    }
   ],
   "source": [
    "print \"********length in advance*************\"\n",
    "print \"\\n\"\n",
    "print \"**acceptance**\"\n",
    "print \"1 w:\" +str(adv1_acc[1])\n",
    "print \"2 w:\" +str(adv2_acc[1])\n",
    "print \"M w:\" +str(advM_acc[1])\n",
    "\n",
    "print \"**refusal**\"\n",
    "print \"1 w:\" +str(adv1_den[1])\n",
    "print \"2 w:\" +str(adv2_den[1])\n",
    "print \"M w:\" +str(advM_den[1])\n",
    "print \"\\n\"\n",
    "print \"********orphan VS non orphan*************\"\n",
    "print \"\\n\"\n",
    "print \"**acceptance**\"\n",
    "print \"orph 1:\" +str(orp1_acc[1])\n",
    "print \"orph 2:\" +str(orp2_acc[1])\n",
    "print \"orph 3:\" +str(orp3_acc[1])\n",
    "print \"non orph:\" +str(orpM_acc[1])\n",
    "\n",
    "print \"**refusal**\"\n",
    "print \"orph 1:\" +str(orp1_den[1])\n",
    "print \"orph 2:\" +str(orp2_den[1])\n",
    "print \"orph 3:\" +str(orp3_den[1])\n",
    "print \"non orph:\" +str(orpM_den[1])"
   ]
  }
 ],
 "metadata": {
  "kernelspec": {
   "display_name": "Python 2",
   "language": "python",
   "name": "python2"
  },
  "language_info": {
   "codemirror_mode": {
    "name": "ipython",
    "version": 2
   },
   "file_extension": ".py",
   "mimetype": "text/x-python",
   "name": "python",
   "nbconvert_exporter": "python",
   "pygments_lexer": "ipython2",
   "version": "2.7.11"
  }
 },
 "nbformat": 4,
 "nbformat_minor": 0
}
